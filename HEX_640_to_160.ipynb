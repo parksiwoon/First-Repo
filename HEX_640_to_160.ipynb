{
 "cells": [
  {
   "cell_type": "code",
   "execution_count": 20,
   "id": "dfce0efd",
   "metadata": {},
   "outputs": [
    {
     "name": "stdout",
     "output_type": "stream",
     "text": [
      "Requirement already satisfied: intelhex in c:\\users\\parks\\anaconda3\\lib\\site-packages (2.3.0)Note: you may need to restart the kernel to use updated packages.\n",
      "\n"
     ]
    }
   ],
   "source": [
    "pip install intelhex"
   ]
  },
  {
   "cell_type": "code",
   "execution_count": 22,
   "id": "639b44fd",
   "metadata": {},
   "outputs": [
    {
     "name": "stdout",
     "output_type": "stream",
     "text": [
      "Requirement already satisfied: pillow in c:\\users\\parks\\anaconda3\\lib\\site-packages (9.0.1)\n",
      "Note: you may need to restart the kernel to use updated packages.\n"
     ]
    }
   ],
   "source": [
    "pip install pillow\n"
   ]
  },
  {
   "cell_type": "code",
   "execution_count": 29,
   "id": "ca6934a4",
   "metadata": {},
   "outputs": [],
   "source": [
    "import binascii\n",
    "import re\n",
    "\n",
    "def update_image_size_in_ihdr(image_hex_data, new_width, new_height):\n",
    "    # Convert width and height to hex, 4 bytes each\n",
    "    width_hex = f'{new_width:08X}'\n",
    "    height_hex = f'{new_height:08X}'\n",
    "    # Find the IHDR position (assuming it starts after the first ':')\n",
    "    ihdr_pos = image_hex_data.find('49484452')  # 'IHDR' in hex\n",
    "    if ihdr_pos != -1:\n",
    "        # Replace the width and height in the IHDR chunk\n",
    "        new_ihdr_data = (\n",
    "            image_hex_data[:ihdr_pos+8] + # IHDR start\n",
    "            width_hex + height_hex + # New width and height\n",
    "            image_hex_data[ihdr_pos+24:] # Rest of the data\n",
    "        )\n",
    "        return new_ihdr_data\n",
    "    else:\n",
    "        return image_hex_data\n",
    "\n",
    "def crop_hex_image(input_hex_path, output_hex_path, width, original_height, new_height):\n",
    "    # Open the original hex file to read\n",
    "    with open(input_hex_path, 'r') as file:\n",
    "        hex_lines = file.readlines()\n",
    "    \n",
    "    # Extract all the hex data\n",
    "    hex_data = ''.join(re.findall(r':[0-9A-F]{2}([0-9A-F]+)', ''.join(hex_lines)))\n",
    "\n",
    "    # Update the IHDR with the new image size\n",
    "    updated_hex_data = update_image_size_in_ihdr(hex_data, width, new_height)\n",
    "\n",
    "    # Decode the hex to bytes\n",
    "    image_bytes = binascii.unhexlify(updated_hex_data)\n",
    "\n",
    "    # Assuming PNG RGBA (4 bytes per pixel), calculate the number of bytes per row\n",
    "    bytes_per_row = width * 4\n",
    "    # Select only the bytes for the top `new_height` rows\n",
    "    cropped_bytes = image_bytes[:bytes_per_row * new_height]\n",
    "\n",
    "    # Convert bytes back to hex\n",
    "    cropped_hex = binascii.hexlify(cropped_bytes).upper().decode('utf-8')\n",
    "\n",
    "    # Write to new hex file\n",
    "    with open(output_hex_path, 'w') as out_file:\n",
    "        # Split the long hex string into lines for readability (optional)\n",
    "        for i in range(0, len(cropped_hex), 32):  # 32 characters per line\n",
    "            out_file.write(':20' + cropped_hex[i:i+32] + '\\n')\n",
    "\n",
    "# Define paths and parameters\n",
    "input_hex_path = \"C:\\\\a.jobdongsani\\\\image_rgba.hex\"\n",
    "output_hex_path = \"C:\\\\a.jobdongsani\\\\cropped_image_rgba.hex\"\n",
    "width = 960\n",
    "original_height = 640\n",
    "new_height = 160\n",
    "\n",
    "# Crop the image\n",
    "crop_hex_image(input_hex_path, output_hex_path, width, original_height, new_height)\n"
   ]
  },
  {
   "cell_type": "code",
   "execution_count": null,
   "id": "86c98f4c",
   "metadata": {},
   "outputs": [],
   "source": []
  }
 ],
 "metadata": {
  "kernelspec": {
   "display_name": "Python 3 (ipykernel)",
   "language": "python",
   "name": "python3"
  },
  "language_info": {
   "codemirror_mode": {
    "name": "ipython",
    "version": 3
   },
   "file_extension": ".py",
   "mimetype": "text/x-python",
   "name": "python",
   "nbconvert_exporter": "python",
   "pygments_lexer": "ipython3",
   "version": "3.9.12"
  }
 },
 "nbformat": 4,
 "nbformat_minor": 5
}
